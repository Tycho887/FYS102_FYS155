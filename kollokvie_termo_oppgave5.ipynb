{
 "cells": [
  {
   "cell_type": "markdown",
   "metadata": {},
   "source": [
    "# Oppgave 5\n",
    "\n",
    "<h3>Del A: Visualiser en isoterm kompresjon</h3>\n",
    "\n",
    "Her benyttes termoPy biblioteket for å finne ukjente mengder til en ideell gass, og deretter plotting av en isoterm process"
   ]
  },
  {
   "cell_type": "code",
   "execution_count": 1,
   "metadata": {},
   "outputs": [
    {
     "ename": "TypeError",
     "evalue": "unsupported operand type(s) for *: 'NoneType' and 'int'",
     "output_type": "error",
     "traceback": [
      "\u001b[1;31m---------------------------------------------------------------------------\u001b[0m",
      "\u001b[1;31mTypeError\u001b[0m                                 Traceback (most recent call last)",
      "\u001b[1;32mc:\\Users\\Michael\\Desktop\\FYS102_155\\kollokvie_termo_oppgave5.ipynb Cell 2\u001b[0m line \u001b[0;36m1\n\u001b[0;32m      <a href='vscode-notebook-cell:/c%3A/Users/Michael/Desktop/FYS102_155/kollokvie_termo_oppgave5.ipynb#W1sZmlsZQ%3D%3D?line=7'>8</a>\u001b[0m final_volume \u001b[39m=\u001b[39m initial_volume\u001b[39m*\u001b[39m\u001b[39m0.5\u001b[39m\n\u001b[0;32m     <a href='vscode-notebook-cell:/c%3A/Users/Michael/Desktop/FYS102_155/kollokvie_termo_oppgave5.ipynb#W1sZmlsZQ%3D%3D?line=9'>10</a>\u001b[0m isoterm_prosess \u001b[39m=\u001b[39m TP\u001b[39m.\u001b[39mIsothermal(n\u001b[39m=\u001b[39m\u001b[39m3\u001b[39m,T1\u001b[39m=\u001b[39m\u001b[39m273\u001b[39m,P1\u001b[39m=\u001b[39m\u001b[39m1\u001b[39m\u001b[39m*\u001b[39matm)\n\u001b[1;32m---> <a href='vscode-notebook-cell:/c%3A/Users/Michael/Desktop/FYS102_155/kollokvie_termo_oppgave5.ipynb#W1sZmlsZQ%3D%3D?line=10'>11</a>\u001b[0m isoterm_prosess\u001b[39m.\u001b[39;49mgenerate_data_from_dV(V2\u001b[39m=\u001b[39;49mfinal_volume)\n\u001b[0;32m     <a href='vscode-notebook-cell:/c%3A/Users/Michael/Desktop/FYS102_155/kollokvie_termo_oppgave5.ipynb#W1sZmlsZQ%3D%3D?line=12'>13</a>\u001b[0m \u001b[39mdef\u001b[39;00m \u001b[39mplot_isoterm_prosess\u001b[39m(A):\n\u001b[0;32m     <a href='vscode-notebook-cell:/c%3A/Users/Michael/Desktop/FYS102_155/kollokvie_termo_oppgave5.ipynb#W1sZmlsZQ%3D%3D?line=13'>14</a>\u001b[0m     plt\u001b[39m.\u001b[39mtitle(A\u001b[39m.\u001b[39mtitle)\n",
      "File \u001b[1;32mc:\\Users\\Michael\\Desktop\\FYS102_155\\termoPy.py:207\u001b[0m, in \u001b[0;36mIsothermal.generate_data_from_dV\u001b[1;34m(self, V2, show, steps)\u001b[0m\n\u001b[0;32m    205\u001b[0m \u001b[39mself\u001b[39m\u001b[39m.\u001b[39mpressure \u001b[39m=\u001b[39m \u001b[39mself\u001b[39m\u001b[39m.\u001b[39mP(\u001b[39mself\u001b[39m\u001b[39m.\u001b[39mvolume,\u001b[39mself\u001b[39m\u001b[39m.\u001b[39mT1)\n\u001b[0;32m    206\u001b[0m \u001b[39mself\u001b[39m\u001b[39m.\u001b[39mtemperature \u001b[39m=\u001b[39m \u001b[39mself\u001b[39m\u001b[39m.\u001b[39mT1\u001b[39m*\u001b[39mnp\u001b[39m.\u001b[39mones(\u001b[39mlen\u001b[39m(\u001b[39mself\u001b[39m\u001b[39m.\u001b[39mvolume))\n\u001b[1;32m--> 207\u001b[0m \u001b[39mself\u001b[39;49m\u001b[39m.\u001b[39;49m_generate_extra_data(show)\n\u001b[0;32m    208\u001b[0m \u001b[39mreturn\u001b[39;00m \u001b[39mself\u001b[39m\u001b[39m.\u001b[39mvolume,\u001b[39mself\u001b[39m\u001b[39m.\u001b[39mpressure\n",
      "File \u001b[1;32mc:\\Users\\Michael\\Desktop\\FYS102_155\\termoPy.py:68\u001b[0m, in \u001b[0;36mIdealGas._generate_extra_data\u001b[1;34m(self, show)\u001b[0m\n\u001b[0;32m     67\u001b[0m \u001b[39mdef\u001b[39;00m \u001b[39m_generate_extra_data\u001b[39m(\u001b[39mself\u001b[39m,show):\n\u001b[1;32m---> 68\u001b[0m     \u001b[39mself\u001b[39m\u001b[39m.\u001b[39minternal_energy \u001b[39m=\u001b[39m \u001b[39mself\u001b[39;49m\u001b[39m.\u001b[39;49mCv\u001b[39m*\u001b[39;49m\u001b[39mself\u001b[39;49m\u001b[39m.\u001b[39;49mn\u001b[39m*\u001b[39mR\u001b[39m*\u001b[39m\u001b[39mself\u001b[39m\u001b[39m.\u001b[39mtemperature\n\u001b[0;32m     69\u001b[0m     \u001b[39mself\u001b[39m\u001b[39m.\u001b[39mentropy \u001b[39m=\u001b[39m \u001b[39mself\u001b[39m\u001b[39m.\u001b[39mn\u001b[39m*\u001b[39mR\u001b[39m*\u001b[39mnp\u001b[39m.\u001b[39mlog(\u001b[39mself\u001b[39m\u001b[39m.\u001b[39mvolume)\u001b[39m+\u001b[39m\u001b[39mself\u001b[39m\u001b[39m.\u001b[39mCv\u001b[39m*\u001b[39mnp\u001b[39m.\u001b[39mlog(\u001b[39mself\u001b[39m\u001b[39m.\u001b[39mtemperature)\n\u001b[0;32m     70\u001b[0m     \u001b[39mself\u001b[39m\u001b[39m.\u001b[39mconsistency \u001b[39m=\u001b[39m \u001b[39mself\u001b[39m\u001b[39m.\u001b[39mpressure\u001b[39m*\u001b[39m\u001b[39mself\u001b[39m\u001b[39m.\u001b[39mvolume\u001b[39m-\u001b[39m(\u001b[39mself\u001b[39m\u001b[39m.\u001b[39mn\u001b[39m*\u001b[39mR\u001b[39m*\u001b[39m\u001b[39mself\u001b[39m\u001b[39m.\u001b[39mtemperature)\n",
      "\u001b[1;31mTypeError\u001b[0m: unsupported operand type(s) for *: 'NoneType' and 'int'"
     ]
    }
   ],
   "source": [
    "import termoPy as TP\n",
    "import matplotlib.pyplot as plt\n",
    "import numpy as np\n",
    "\n",
    "atm = 101300; L = 0.001\n",
    "\n",
    "initial_volume = TP.IdealGas(n=3,P1=1*atm,T1=273).V1\n",
    "final_volume = initial_volume*0.5\n",
    "\n",
    "isoterm_prosess = TP.Isothermal(n=3,T1=273,P1=1*atm)\n",
    "isoterm_prosess.generate_data_from_dV(V2=final_volume)\n",
    "\n",
    "def plot_isoterm_prosess(A):\n",
    "    plt.title(A.title)\n",
    "    plt.xlabel(\"Volum [m^3]\")\n",
    "    plt.ylabel(\"Trykk [Pa]\")\n",
    "    plt.plot(A.volume,A.pressure,label=f\"{A.title}: {A.calculate_work_done_by()/1000:.2f} kJ\")\n",
    "    plt.legend()\n",
    "    plt.grid()\n",
    "    plt.savefig(f\"data/DelA.png\")\n",
    "    plt.show()\n",
    "\n",
    "plot_isoterm_prosess(isoterm_prosess)\n"
   ]
  },
  {
   "cell_type": "markdown",
   "metadata": {},
   "source": [
    "<h3>Del B: Visualiser en adiabatisk kompresjon</h3>\n",
    "\n",
    "Vi benytter igjen termoPy biblioteket for å plotte den adiabatiske kompresjonen."
   ]
  },
  {
   "cell_type": "code",
   "execution_count": null,
   "metadata": {},
   "outputs": [],
   "source": [
    "adiabatisk_prosess = TP.Adiabatic(n=3,gamma=7/5,T1=273,P1=1*atm,diatomic=True)\n",
    "adiabatisk_prosess.generate_data_from_dV(V2=final_volume)\n",
    "\n",
    "def plot_processes(A,B):\n",
    "\n",
    "    plot_title = A.title + \" og \" + B.title\n",
    "\n",
    "    plt.title(plot_title)\n",
    "    plt.xlabel(\"Volum [m^3]\")\n",
    "    plt.ylabel(\"Trykk [Pa]\")\n",
    "    plt.plot(A.volume,A.pressure,label=f\"{A.title}: {A.calculate_work_done_by()/1000:.2f} kJ\")\n",
    "    plt.plot(B.volume,B.pressure,label=f\"{B.title}: {B.calculate_work_done_by()/1000:.2f} kJ\")\n",
    "    plt.legend()\n",
    "    plt.grid()\n",
    "    plt.savefig(f\"data/DelB.png\")\n",
    "    plt.show()\n",
    "\n",
    "\n",
    "\n",
    "#plot_processes(isoterm_prosess,adiabatisk_prosess)"
   ]
  },
  {
   "cell_type": "markdown",
   "metadata": {},
   "source": [
    "# Del C: Finn egenskaper til gass i isoterm- og adiabatisk prosess"
   ]
  },
  {
   "cell_type": "code",
   "execution_count": null,
   "metadata": {},
   "outputs": [
    {
     "data": {
      "text/plain": [
       "(array([0.05      , 0.04999996, 0.04999992, ..., 0.01000008, 0.01000004,\n",
       "        0.01      ]),\n",
       " array([101300.        , 101300.11345622, 101300.22691266, ...,\n",
       "        964189.9210044 , 964195.32045608, 964200.71995959]))"
      ]
     },
     "execution_count": 5,
     "metadata": {},
     "output_type": "execute_result"
    }
   ],
   "source": [
    "import termoPy as TP\n",
    "\n",
    "mol = TP.IdealGas(P1=1*atm,V1=50*L,T1=273).n\n",
    "\n",
    "P  = 1.0 * atm\n",
    "T = 273\n",
    "V1 = 50*L\n",
    "V2 = 10*L\n",
    "k = 1000000\n",
    "\n",
    "isoterm_prosess    = TP.Isothermal(n=mol, T1 = T, V1 = V1, P1 = P)\n",
    "adiabatisk_prosess = TP.Adiabatic(n=mol, T1 = T, V1 = V1, P1 = P,gamma = 7/5,diatomic=True)\n",
    "\n",
    "isoterm_prosess.generate_data_from_dV(V2,steps=k)\n",
    "adiabatisk_prosess.generate_data_from_dV(V2,steps=k)\n",
    "\n",
    "#plot_processes(isoterm_prosess,adiabatisk_prosess)"
   ]
  },
  {
   "cell_type": "markdown",
   "metadata": {},
   "source": [
    "# Del C og D: Numerisk integrasjon og teori"
   ]
  },
  {
   "cell_type": "code",
   "execution_count": null,
   "metadata": {},
   "outputs": [
    {
     "name": "stdout",
     "output_type": "stream",
     "text": [
      "Arbeidet gjort i Isotermisk prosess er: -8.15 kJ\n",
      "Arbeidet gjort i Adiabatisk prosess er: -11.4 kJ\n",
      "Forskjellen i forventet arbeid er:\n",
      "for isotermisk: 8151.80 J\n",
      "for Adiabatisk: 11442.52 J\n",
      "\n"
     ]
    }
   ],
   "source": [
    "def integrate(A):\n",
    "    dV = (V2-V1)/k\n",
    "    arbeid = dV*np.sum(A.pressure)\n",
    "    print(f\"Arbeidet gjort i {A.title} er: {arbeid/1000:.3g} kJ\")\n",
    "    return arbeid\n",
    "\n",
    "iso_arbeid = integrate(isoterm_prosess)\n",
    "adi_arbeid = integrate(adiabatisk_prosess)\n",
    "\n",
    "print(f\"\"\"Forskjellen i forventet arbeid er:\n",
    "for isotermisk: {abs(isoterm_prosess.calculate_work_done_by()):.2f} J\n",
    "for Adiabatisk: {abs(adiabatisk_prosess.calculate_work_done_by()):.2f} J\n",
    "\"\"\")"
   ]
  },
  {
   "cell_type": "code",
   "execution_count": null,
   "metadata": {},
   "outputs": [
    {
     "ename": "AttributeError",
     "evalue": "'Adiabatic' object has no attribute 'plot_ST'",
     "output_type": "error",
     "traceback": [
      "\u001b[1;31m---------------------------------------------------------------------------\u001b[0m",
      "\u001b[1;31mAttributeError\u001b[0m                            Traceback (most recent call last)",
      "\u001b[1;32mc:\\Users\\Michael\\Desktop\\FYS102_155\\kollokvie_termo_oppgave5.ipynb Cell 9\u001b[0m line \u001b[0;36m8\n\u001b[0;32m      <a href='vscode-notebook-cell:/c%3A/Users/Michael/Desktop/FYS102_155/kollokvie_termo_oppgave5.ipynb#X11sZmlsZQ%3D%3D?line=4'>5</a>\u001b[0m process \u001b[39m=\u001b[39m TP\u001b[39m.\u001b[39mAdiabatic(n\u001b[39m=\u001b[39m\u001b[39m3\u001b[39m,P1\u001b[39m=\u001b[39m\u001b[39m1\u001b[39m\u001b[39m*\u001b[39matm,T1\u001b[39m=\u001b[39m\u001b[39m273\u001b[39m,gamma\u001b[39m=\u001b[39m\u001b[39m7\u001b[39m\u001b[39m/\u001b[39m\u001b[39m5\u001b[39m,diatomic\u001b[39m=\u001b[39m\u001b[39mTrue\u001b[39;00m)\n\u001b[0;32m      <a href='vscode-notebook-cell:/c%3A/Users/Michael/Desktop/FYS102_155/kollokvie_termo_oppgave5.ipynb#X11sZmlsZQ%3D%3D?line=5'>6</a>\u001b[0m process\u001b[39m.\u001b[39mgenerate_data_from_dV(V2\u001b[39m=\u001b[39m\u001b[39m0.5\u001b[39m\u001b[39m*\u001b[39mprocess\u001b[39m.\u001b[39mV1)\n\u001b[1;32m----> <a href='vscode-notebook-cell:/c%3A/Users/Michael/Desktop/FYS102_155/kollokvie_termo_oppgave5.ipynb#X11sZmlsZQ%3D%3D?line=7'>8</a>\u001b[0m process\u001b[39m.\u001b[39;49mplot_ST()\n",
      "\u001b[1;31mAttributeError\u001b[0m: 'Adiabatic' object has no attribute 'plot_ST'"
     ]
    }
   ],
   "source": [
    "import termoPy as TP\n",
    "\n",
    "atm = 101300; L = 0.001\n",
    "\n",
    "process = TP.Adiabatic(n=3,P1=1*atm,T1=273,gamma=7/5,diatomic=True)\n",
    "process.generate_data_from_dV(V2=0.5*process.V1)\n",
    "\n",
    "process.plot_ST()"
   ]
  }
 ],
 "metadata": {
  "kernelspec": {
   "display_name": "INF201",
   "language": "python",
   "name": "python3"
  },
  "language_info": {
   "codemirror_mode": {
    "name": "ipython",
    "version": 3
   },
   "file_extension": ".py",
   "mimetype": "text/x-python",
   "name": "python",
   "nbconvert_exporter": "python",
   "pygments_lexer": "ipython3",
   "version": "0.0.0"
  },
  "orig_nbformat": 4
 },
 "nbformat": 4,
 "nbformat_minor": 2
}
