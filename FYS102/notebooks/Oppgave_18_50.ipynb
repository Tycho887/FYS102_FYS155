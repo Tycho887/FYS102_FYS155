{
 "cells": [
  {
   "cell_type": "markdown",
   "metadata": {},
   "source": []
  },
  {
   "cell_type": "code",
   "execution_count": 16,
   "metadata": {},
   "outputs": [
    {
     "name": "stdout",
     "output_type": "stream",
     "text": [
      "The velocity of the electron is 1.04e+07 m/s\n"
     ]
    }
   ],
   "source": [
    "import math\n",
    "\n",
    "m = 9.11e-31\n",
    "sigma = 1.8e-7\n",
    "d = 1.5e-2\n",
    "q = 1.6e-19\n",
    "e0 = 8.85e-12\n",
    "\n",
    "E = sigma / e0\n",
    "\n",
    "acceleration = q * E / m\n",
    "\n",
    "velocity = math.sqrt(2 * acceleration * d)\n",
    "\n",
    "print(f\"The velocity of the electron is {velocity:.2e} m/s\")\n",
    "\n",
    "\n",
    "\n"
   ]
  },
  {
   "cell_type": "code",
   "execution_count": 54,
   "metadata": {},
   "outputs": [
    {
     "name": "stdout",
     "output_type": "stream",
     "text": [
      "The distance between the two charges is 5.28e+00 m\n"
     ]
    }
   ],
   "source": [
    "import numpy as np\n",
    "import matplotlib.pyplot as plt\n",
    "E = 2500\n",
    "m1 = 1.4e-5\n",
    "m2 = 2.6e-6\n",
    "q1 = -7.0e-6\n",
    "q2 = 18.0e-6\n",
    "k = 8.99e9\n",
    "\n",
    "Fr = E*(m1*abs(q2) + m2*abs(q1))/(m1+m2)\n",
    "\n",
    "#d = math.sqrt(abs(k*q1*q2/Fr))\n",
    "d = math.sqrt(abs(k*q1*q2/Fr))\n",
    "\n",
    "print(f\"The distance between the two charges is {d:.2e} m\")\n",
    "\n"
   ]
  }
 ],
 "metadata": {
  "kernelspec": {
   "display_name": "INF201",
   "language": "python",
   "name": "python3"
  },
  "language_info": {
   "codemirror_mode": {
    "name": "ipython",
    "version": 3
   },
   "file_extension": ".py",
   "mimetype": "text/x-python",
   "name": "python",
   "nbconvert_exporter": "python",
   "pygments_lexer": "ipython3",
   "version": "3.10.13"
  }
 },
 "nbformat": 4,
 "nbformat_minor": 2
}
