{
 "cells": [
  {
   "cell_type": "markdown",
   "metadata": {},
   "source": [
    "\\newpage\n",
    "\n",
    "**Hvorfor skjer det fusjon på innsiden av stjerner?**\n",
    "\n",
    "Vi kan finne andelen av partiklene som har den nødvendige energien ved å integrere Maxwell-Boltzmann energifordelingen, fra kritisk energi til uendelig.\n",
    "\n",
    "Den kritiske energien til partiklene er energien nødvendig for å overkomme den elektrostatiske frastøtningen. $E_{kritisk} = \\frac{e^2}{4 \\pi \\epsilon_0 r}$\n",
    "\n",
    "Andelen $P$ som er over den kritiske energien $E_{kritisk}$ er gitt ved integalet av sannsynlighetsfordelingen, \n",
    "ved temperatur $T = 1.5 \\times 10^7 K$\n",
    "\n",
    "$$P_{kritisk} =  \\frac{2}{\\sqrt{\\pi}} {\\left( \\frac{1}{k_b T} \\right)}^{3/2}\n",
    "\\int_{E_{kritisk}}^\\infty \\sqrt{E} \\exp{\\left( -\\frac{E}{k_b T} \\right)} dE$$\n",
    "\n",
    "Vi kan nå prøve å finne fusjonsraten i solens kjerne ved å finne antallet partikler som har den nødvendige energien, og multiplisere dette med kollisjonsfrekvensen. Finner først nødvendig informasjon (`tall er hentet fra internett`)\n",
    "\n",
    "- `masse til solen:` $2\\times10^{30}kg$\n",
    "- `tetthet i kjernen:` $160\\times10^3 kg/{m^3}$\n",
    "- `radius til kjernen:` $1.38\\times10^8m$\n",
    "- `diameter til proton:` $0.85\\times10^{-15}m$\n",
    "- `masse til proton:` $1.67\\times10^{-27}kg$\n",
    "\n",
    "Fusjonsraten er da gitt ved produktet av sannsynligheten for at en partikkel har kritisk hastighet, antall partikler og kollisjonsfrekvensen.\n",
    "\n",
    "$$\\frac{dN_{fusjon}}{dt} = P_{kritisk}N_{protoner}{r_{kollisjon}}$$\n",
    "\n",
    "Protontettheten er gitt ved tettheten i kjernen, og massen til protonet.\n",
    "$$n_{v} = \\frac{\\rho_{kjerne}}{m_{proton}}$$\n",
    "\n",
    "Antall protoner finner vi ved å multiplisere proton-tettheten med volumet til kjernen.\n",
    "\n",
    "$$N_{protoner} = n_{v} \\frac{4}{3} \\pi r_{kjerne}^3$$\n",
    "\n",
    "Først finner vi gjennomsnittlig fri tid for protonene i kjernen, og deretter kollisjonsfrekvensen.\n",
    "\n",
    "$$v_{rms} = \\sqrt{\\frac{3k_bT}{m_{proton}}}$$\n",
    "\n",
    "$$\\tau = \\frac{1}{\\sqrt{2} n_v d^2 v_{rms}}$$\n",
    "\n",
    "$$r_{kollisjon} = \\frac{N_{protoner}}{\\tau}$$\n",
    "\n",
    "\\newpage\n",
    "\n",
    "**Vi kan nå finne fusjonsraten i solens kjerne:**"
   ]
  },
  {
   "cell_type": "code",
   "execution_count": 23,
   "metadata": {},
   "outputs": [
    {
     "name": "stdout",
     "output_type": "stream",
     "text": [
      "1.5166683835054006e-06\n",
      "Fusjonsraten er 1.60e+32 protoner per sekund\n"
     ]
    }
   ],
   "source": [
    "import numpy as np\n",
    "kB = 1.38064852e-23\n",
    "T = 1.5e7 # temperaturen i solkjernen\n",
    "m = 1.67e-27 # massen til protonet\n",
    "rho_core = 160e3 # tetthet til solkjernen\n",
    "r = 1.38e8 # radius av solkjernen\n",
    "d = 1.2e-15 # proton diameter\n",
    "\n",
    "def v_rms(T):\n",
    "    return np.sqrt(3 * kB * T / m)\n",
    "\n",
    "def hastighets_fordeling(v):\n",
    "    return 4 / np.sqrt(np.pi) * (m / (2 * kB * T)) ** (3 / 2) * v ** 2 * np.exp(-m * v ** 2 / (2 * kB * T))\n",
    "\n",
    "kritisk_hastighet = v_rms(2.3e9) # kritisk temperatur er 2.3e9 K\n",
    "\n",
    "\n",
    "integrasjons_område = np.linspace(kritisk_hastighet,1e6*kritisk_hastighet,int(1e7))\n",
    "P_kritisk = np.trapz(hastighets_fordeling(integrasjons_område),integrasjons_område)\n",
    "\n",
    "nv = rho_core / m # protoner per m^3\n",
    "N = nv * 4 / 3 * np.pi * r ** 3 # antall protoner i solkjernen\n",
    "\n",
    "kollisjons_rate = N * v_rms(T) * np.pi * d ** 2 * nv * np.sqrt(2) * kritisk_hastighet\n",
    "\n",
    "fusjons_rate = P_kritisk * N * kollisjons_rate\n",
    "print(hastighets_fordeling(v_rms(T)))\n",
    "\n",
    "print(f\"Fusjonsraten er {fusjons_rate:.2e} protoner per sekund\")"
   ]
  },
  {
   "cell_type": "code",
   "execution_count": 37,
   "metadata": {},
   "outputs": [
    {
     "name": "stdout",
     "output_type": "stream",
     "text": [
      "0.0\n"
     ]
    },
    {
     "name": "stderr",
     "output_type": "stream",
     "text": [
      "C:\\Users\\Michael\\AppData\\Local\\Temp\\ipykernel_17908\\1605956906.py:15: RuntimeWarning: invalid value encountered in divide\n",
      "  normalisert_fordeling /= np.linalg.norm(normalisert_fordeling)\n"
     ]
    }
   ],
   "source": [
    "import matplotlib.pyplot as plt\n",
    "\n",
    "kritisk_energi = 8.99e9 * (1.602e-19)**2 / d\n",
    "E_rms = 3 / 2 * kB * T\n",
    "\n",
    "def energi_fordeling(E):\n",
    "    return 2 / np.sqrt(np.pi) * (1 / (kB * T)) ** (3/2) * np.sqrt(E) * np.exp(-E / (kB * T))\n",
    "\n",
    "integrasjons_område = np.linspace(kritisk_energi,1e3*kritisk_energi,int(1e3))\n",
    "\n",
    "normalisert_fordeling = energi_fordeling(integrasjons_område)\n",
    "normalisert_fordeling /= np.linalg.norm(normalisert_fordeling)\n",
    "\n",
    "P_kritisk = np.trapz(energi_fordeling(integrasjons_område),integrasjons_område)\n",
    "\n",
    "print(P_kritisk)"
   ]
  },
  {
   "cell_type": "markdown",
   "metadata": {},
   "source": [
    "**Feilkilder**\n",
    "\n",
    "Den reelle fusjonsraten er omtrent $3.7\\times10^{38} protoner/s$\n",
    "\n",
    "Det kan være flere forskjellige årsaker til denne feilen, men den største er nok at $P_{kritisk}$ er basert på Maxwell-Boltzmann fordelingen, en fordeling som antar at gassen er ideell. Under de ekstreme trykkene vi finner på innsiden av stjerner, begynner kvanteeffekter å spille en rolle, og vi kan ikke lenger anta at gassen er ideell. Dette er nok årsaken til at vi får en så stor feil.\n",
    "\n",
    "**Konklusjon**\n",
    "\n",
    "Det er en kombinasjon av trykk og temperatur som lar fusjon skje. Temperaturen må være høy nok til at en andel av partiklene har den nødvendige hastigheten, og trykket må være høyt nok til at partiklene kolliderer ofte nok til at fusjon kan skje."
   ]
  }
 ],
 "metadata": {
  "kernelspec": {
   "display_name": "INF201",
   "language": "python",
   "name": "python3"
  },
  "language_info": {
   "codemirror_mode": {
    "name": "ipython",
    "version": 3
   },
   "file_extension": ".py",
   "mimetype": "text/x-python",
   "name": "python",
   "nbconvert_exporter": "python",
   "pygments_lexer": "ipython3",
   "version": "3.10.13"
  }
 },
 "nbformat": 4,
 "nbformat_minor": 2
}
