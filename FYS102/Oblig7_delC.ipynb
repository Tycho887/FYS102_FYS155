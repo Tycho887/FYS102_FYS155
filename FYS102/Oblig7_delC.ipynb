{
 "cells": [
  {
   "cell_type": "markdown",
   "metadata": {},
   "source": [
    "**Hvorfor skjer det fusjon på innsiden av stjerner?**\n",
    "\n",
    "Vi kan finne andelen av partiklene som har den nødvendige farten ved å integrere Maxwell-Boltzmannfordelingen, fra kritisk hastighet til uendelig.\n",
    "\n",
    "Den kritiske hastigheten til partiklene $v_{rms}$ ved $2.3 \\times 10^9 K$ finner vi ved formelen $v_{rms} = \\sqrt{\\frac{3k_B T}{m}}$\n",
    "\n",
    "Andelen $P$ som er over den kritiske hastigheten $v_{rms}$ er gitt ved integalet av sannsynlighetsfordelingen, \n",
    "ved temperatur $T = 1.5 \\times 10^7 K$\n",
    "\n",
    "$$P = \\frac{4\\pi}{\\left( \\frac{2\\pi k_B T}{m} \\right)^{3/2}} \\int_{v_{rms}}^\\infty v^2 e^{-\\frac{mv^2}{2k_B T}} dv$$"
   ]
  },
  {
   "cell_type": "code",
   "execution_count": 1,
   "metadata": {},
   "outputs": [
    {
     "name": "stdout",
     "output_type": "stream",
     "text": [
      "Andel som har større enn kritisk hastighet:  6.891535245365216e-104\n"
     ]
    }
   ],
   "source": [
    "import numpy as np\n",
    "kB = 1.38064852e-23\n",
    "T = 1.5e7\n",
    "m = 1.67e-27\n",
    "v_rms = lambda T: np.sqrt(3*kB*T/m)\n",
    "kritisk_hastighet = v_rms(2.3e9)\n",
    "\n",
    "def MB_speed(v):\n",
    "    return (m/(2*np.pi*kB*T))**(3/2)*4*np.pi*(v**2)*np.exp(-m*v**2/(2*kB*T))\n",
    "\n",
    "integrasjons_område = np.linspace(kritisk_hastighet,100*kritisk_hastighet,10000)\n",
    "\n",
    "print(\"Andel som har større enn kritisk hastighet: \", np.trapz(MB_speed(integrasjons_område)))"
   ]
  },
  {
   "cell_type": "markdown",
   "metadata": {},
   "source": [
    "Ettersom det kun er $9.21 \\times 10^{53}$ atomer i solen (`hentet fra google`), vil vi ikke forvente at det er noen partikler med en hastighet større en den kritiske farten, ettersom andelen er av størrelsesorden $10^{-104}$\n",
    "\n",
    "Det er derfor sannsynlig at det er et annet mekanisme som er ansvarlig for fusjonen i stjerner. Mest sannsynlig vil dette være trykket som partiklene utøver på hverandre i kjernen."
   ]
  },
  {
   "cell_type": "code",
   "execution_count": null,
   "metadata": {},
   "outputs": [],
   "source": []
  }
 ],
 "metadata": {
  "kernelspec": {
   "display_name": "INF201",
   "language": "python",
   "name": "python3"
  },
  "language_info": {
   "codemirror_mode": {
    "name": "ipython",
    "version": 3
   },
   "file_extension": ".py",
   "mimetype": "text/x-python",
   "name": "python",
   "nbconvert_exporter": "python",
   "pygments_lexer": "ipython3",
   "version": "3.10.13"
  }
 },
 "nbformat": 4,
 "nbformat_minor": 2
}
